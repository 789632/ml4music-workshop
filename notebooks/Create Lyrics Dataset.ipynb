{
 "cells": [
  {
   "cell_type": "code",
   "execution_count": 52,
   "metadata": {
    "collapsed": true
   },
   "outputs": [],
   "source": [
    "import pandas as pd"
   ]
  },
  {
   "cell_type": "code",
   "execution_count": 53,
   "metadata": {
    "collapsed": false
   },
   "outputs": [],
   "source": [
    "# using lyrics dataset from \n",
    "# http://kaylinwalker.com/50-years-of-pop-music/\n",
    "df = pd.read_csv('../data/billboard_lyrics_1964-2015.csv', encoding='ISO-8859-1')"
   ]
  },
  {
   "cell_type": "code",
   "execution_count": 54,
   "metadata": {
    "collapsed": false
   },
   "outputs": [],
   "source": [
    "songs = [str(s[4]).strip() for s in df.values] # pull out the values from the 'lyrics' column\n",
    "songs = [s for s in songs if s != 'nan'] # remove NaNs\n",
    "corpus = '|'.join(songs) # join into one string, seperating songs with a vertical bar character\n",
    "\n",
    "# save the file\n",
    "with open('../data/lyrics.txt', 'w') as f:\n",
    "    f.write(corpus)"
   ]
  }
 ],
 "metadata": {
  "kernelspec": {
   "display_name": "Python 3",
   "language": "python",
   "name": "python3"
  },
  "language_info": {
   "codemirror_mode": {
    "name": "ipython",
    "version": 3
   },
   "file_extension": ".py",
   "mimetype": "text/x-python",
   "name": "python",
   "nbconvert_exporter": "python",
   "pygments_lexer": "ipython3",
   "version": "3.5.2"
  }
 },
 "nbformat": 4,
 "nbformat_minor": 2
}
